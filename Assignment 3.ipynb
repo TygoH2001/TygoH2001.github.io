{
 "cells": [
  {
   "cell_type": "code",
   "execution_count": 41,
   "metadata": {},
   "outputs": [
    {
     "name": "stdout",
     "output_type": "stream",
     "text": [
      "Columns in file:\n",
      " Index(['id', 'name', 'host_id', 'host_name', 'neighbourhood_group',\n",
      "       'neighbourhood', 'latitude', 'longitude', 'room_type', 'price',\n",
      "       'minimum_nights', 'number_of_reviews', 'last_review',\n",
      "       'reviews_per_month', 'calculated_host_listings_count',\n",
      "       'availability_365', 'number_of_reviews_ltm', 'license'],\n",
      "      dtype='object')\n"
     ]
    },
    {
     "data": {
      "application/vnd.plotly.v1+json": {
       "config": {
        "plotlyServerURL": "https://plot.ly"
       },
       "data": [
        {
         "alignmentgroup": "True",
         "hovertemplate": "Neighbourhood=%{x}<br>Number of Airbnb Locations=%{y}<extra></extra>",
         "legendgroup": "",
         "marker": {
          "color": "#636efa",
          "pattern": {
           "shape": ""
          }
         },
         "name": "",
         "offsetgroup": "",
         "orientation": "v",
         "showlegend": false,
         "textposition": "auto",
         "type": "bar",
         "x": [
          "De Baarsjes - Oud-West",
          "Centrum-West",
          "De Pijp - Rivierenbuurt",
          "Centrum-Oost",
          "Zuid",
          "Westerpark",
          "Oud-Oost",
          "Bos en Lommer",
          "Oud-Noord",
          "Oostelijk Havengebied - Indische Buurt",
          "Watergraafsmeer",
          "Noord-West",
          "IJburg - Zeeburgereiland",
          "Slotervaart",
          "Noord-Oost",
          "Geuzenveld - Slotermeer",
          "Buitenveldert - Zuidas",
          "De Aker - Nieuw Sloten",
          "Gaasperdam - Driemond",
          "Bijlmer-Centrum",
          "Osdorp",
          "Bijlmer-Oost"
         ],
         "xaxis": "x",
         "y": [
          1382,
          1006,
          935,
          793,
          599,
          584,
          506,
          424,
          402,
          320,
          262,
          218,
          183,
          164,
          137,
          116,
          100,
          74,
          51,
          47,
          44,
          39
         ],
         "yaxis": "y"
        }
       ],
       "layout": {
        "barmode": "relative",
        "legend": {
         "tracegroupgap": 0
        },
        "template": {
         "data": {
          "bar": [
           {
            "error_x": {
             "color": "#2a3f5f"
            },
            "error_y": {
             "color": "#2a3f5f"
            },
            "marker": {
             "line": {
              "color": "#E5ECF6",
              "width": 0.5
             },
             "pattern": {
              "fillmode": "overlay",
              "size": 10,
              "solidity": 0.2
             }
            },
            "type": "bar"
           }
          ],
          "barpolar": [
           {
            "marker": {
             "line": {
              "color": "#E5ECF6",
              "width": 0.5
             },
             "pattern": {
              "fillmode": "overlay",
              "size": 10,
              "solidity": 0.2
             }
            },
            "type": "barpolar"
           }
          ],
          "carpet": [
           {
            "aaxis": {
             "endlinecolor": "#2a3f5f",
             "gridcolor": "white",
             "linecolor": "white",
             "minorgridcolor": "white",
             "startlinecolor": "#2a3f5f"
            },
            "baxis": {
             "endlinecolor": "#2a3f5f",
             "gridcolor": "white",
             "linecolor": "white",
             "minorgridcolor": "white",
             "startlinecolor": "#2a3f5f"
            },
            "type": "carpet"
           }
          ],
          "choropleth": [
           {
            "colorbar": {
             "outlinewidth": 0,
             "ticks": ""
            },
            "type": "choropleth"
           }
          ],
          "contour": [
           {
            "colorbar": {
             "outlinewidth": 0,
             "ticks": ""
            },
            "colorscale": [
             [
              0,
              "#0d0887"
             ],
             [
              0.1111111111111111,
              "#46039f"
             ],
             [
              0.2222222222222222,
              "#7201a8"
             ],
             [
              0.3333333333333333,
              "#9c179e"
             ],
             [
              0.4444444444444444,
              "#bd3786"
             ],
             [
              0.5555555555555556,
              "#d8576b"
             ],
             [
              0.6666666666666666,
              "#ed7953"
             ],
             [
              0.7777777777777778,
              "#fb9f3a"
             ],
             [
              0.8888888888888888,
              "#fdca26"
             ],
             [
              1,
              "#f0f921"
             ]
            ],
            "type": "contour"
           }
          ],
          "contourcarpet": [
           {
            "colorbar": {
             "outlinewidth": 0,
             "ticks": ""
            },
            "type": "contourcarpet"
           }
          ],
          "heatmap": [
           {
            "colorbar": {
             "outlinewidth": 0,
             "ticks": ""
            },
            "colorscale": [
             [
              0,
              "#0d0887"
             ],
             [
              0.1111111111111111,
              "#46039f"
             ],
             [
              0.2222222222222222,
              "#7201a8"
             ],
             [
              0.3333333333333333,
              "#9c179e"
             ],
             [
              0.4444444444444444,
              "#bd3786"
             ],
             [
              0.5555555555555556,
              "#d8576b"
             ],
             [
              0.6666666666666666,
              "#ed7953"
             ],
             [
              0.7777777777777778,
              "#fb9f3a"
             ],
             [
              0.8888888888888888,
              "#fdca26"
             ],
             [
              1,
              "#f0f921"
             ]
            ],
            "type": "heatmap"
           }
          ],
          "heatmapgl": [
           {
            "colorbar": {
             "outlinewidth": 0,
             "ticks": ""
            },
            "colorscale": [
             [
              0,
              "#0d0887"
             ],
             [
              0.1111111111111111,
              "#46039f"
             ],
             [
              0.2222222222222222,
              "#7201a8"
             ],
             [
              0.3333333333333333,
              "#9c179e"
             ],
             [
              0.4444444444444444,
              "#bd3786"
             ],
             [
              0.5555555555555556,
              "#d8576b"
             ],
             [
              0.6666666666666666,
              "#ed7953"
             ],
             [
              0.7777777777777778,
              "#fb9f3a"
             ],
             [
              0.8888888888888888,
              "#fdca26"
             ],
             [
              1,
              "#f0f921"
             ]
            ],
            "type": "heatmapgl"
           }
          ],
          "histogram": [
           {
            "marker": {
             "pattern": {
              "fillmode": "overlay",
              "size": 10,
              "solidity": 0.2
             }
            },
            "type": "histogram"
           }
          ],
          "histogram2d": [
           {
            "colorbar": {
             "outlinewidth": 0,
             "ticks": ""
            },
            "colorscale": [
             [
              0,
              "#0d0887"
             ],
             [
              0.1111111111111111,
              "#46039f"
             ],
             [
              0.2222222222222222,
              "#7201a8"
             ],
             [
              0.3333333333333333,
              "#9c179e"
             ],
             [
              0.4444444444444444,
              "#bd3786"
             ],
             [
              0.5555555555555556,
              "#d8576b"
             ],
             [
              0.6666666666666666,
              "#ed7953"
             ],
             [
              0.7777777777777778,
              "#fb9f3a"
             ],
             [
              0.8888888888888888,
              "#fdca26"
             ],
             [
              1,
              "#f0f921"
             ]
            ],
            "type": "histogram2d"
           }
          ],
          "histogram2dcontour": [
           {
            "colorbar": {
             "outlinewidth": 0,
             "ticks": ""
            },
            "colorscale": [
             [
              0,
              "#0d0887"
             ],
             [
              0.1111111111111111,
              "#46039f"
             ],
             [
              0.2222222222222222,
              "#7201a8"
             ],
             [
              0.3333333333333333,
              "#9c179e"
             ],
             [
              0.4444444444444444,
              "#bd3786"
             ],
             [
              0.5555555555555556,
              "#d8576b"
             ],
             [
              0.6666666666666666,
              "#ed7953"
             ],
             [
              0.7777777777777778,
              "#fb9f3a"
             ],
             [
              0.8888888888888888,
              "#fdca26"
             ],
             [
              1,
              "#f0f921"
             ]
            ],
            "type": "histogram2dcontour"
           }
          ],
          "mesh3d": [
           {
            "colorbar": {
             "outlinewidth": 0,
             "ticks": ""
            },
            "type": "mesh3d"
           }
          ],
          "parcoords": [
           {
            "line": {
             "colorbar": {
              "outlinewidth": 0,
              "ticks": ""
             }
            },
            "type": "parcoords"
           }
          ],
          "pie": [
           {
            "automargin": true,
            "type": "pie"
           }
          ],
          "scatter": [
           {
            "fillpattern": {
             "fillmode": "overlay",
             "size": 10,
             "solidity": 0.2
            },
            "type": "scatter"
           }
          ],
          "scatter3d": [
           {
            "line": {
             "colorbar": {
              "outlinewidth": 0,
              "ticks": ""
             }
            },
            "marker": {
             "colorbar": {
              "outlinewidth": 0,
              "ticks": ""
             }
            },
            "type": "scatter3d"
           }
          ],
          "scattercarpet": [
           {
            "marker": {
             "colorbar": {
              "outlinewidth": 0,
              "ticks": ""
             }
            },
            "type": "scattercarpet"
           }
          ],
          "scattergeo": [
           {
            "marker": {
             "colorbar": {
              "outlinewidth": 0,
              "ticks": ""
             }
            },
            "type": "scattergeo"
           }
          ],
          "scattergl": [
           {
            "marker": {
             "colorbar": {
              "outlinewidth": 0,
              "ticks": ""
             }
            },
            "type": "scattergl"
           }
          ],
          "scattermapbox": [
           {
            "marker": {
             "colorbar": {
              "outlinewidth": 0,
              "ticks": ""
             }
            },
            "type": "scattermapbox"
           }
          ],
          "scatterpolar": [
           {
            "marker": {
             "colorbar": {
              "outlinewidth": 0,
              "ticks": ""
             }
            },
            "type": "scatterpolar"
           }
          ],
          "scatterpolargl": [
           {
            "marker": {
             "colorbar": {
              "outlinewidth": 0,
              "ticks": ""
             }
            },
            "type": "scatterpolargl"
           }
          ],
          "scatterternary": [
           {
            "marker": {
             "colorbar": {
              "outlinewidth": 0,
              "ticks": ""
             }
            },
            "type": "scatterternary"
           }
          ],
          "surface": [
           {
            "colorbar": {
             "outlinewidth": 0,
             "ticks": ""
            },
            "colorscale": [
             [
              0,
              "#0d0887"
             ],
             [
              0.1111111111111111,
              "#46039f"
             ],
             [
              0.2222222222222222,
              "#7201a8"
             ],
             [
              0.3333333333333333,
              "#9c179e"
             ],
             [
              0.4444444444444444,
              "#bd3786"
             ],
             [
              0.5555555555555556,
              "#d8576b"
             ],
             [
              0.6666666666666666,
              "#ed7953"
             ],
             [
              0.7777777777777778,
              "#fb9f3a"
             ],
             [
              0.8888888888888888,
              "#fdca26"
             ],
             [
              1,
              "#f0f921"
             ]
            ],
            "type": "surface"
           }
          ],
          "table": [
           {
            "cells": {
             "fill": {
              "color": "#EBF0F8"
             },
             "line": {
              "color": "white"
             }
            },
            "header": {
             "fill": {
              "color": "#C8D4E3"
             },
             "line": {
              "color": "white"
             }
            },
            "type": "table"
           }
          ]
         },
         "layout": {
          "annotationdefaults": {
           "arrowcolor": "#2a3f5f",
           "arrowhead": 0,
           "arrowwidth": 1
          },
          "autotypenumbers": "strict",
          "coloraxis": {
           "colorbar": {
            "outlinewidth": 0,
            "ticks": ""
           }
          },
          "colorscale": {
           "diverging": [
            [
             0,
             "#8e0152"
            ],
            [
             0.1,
             "#c51b7d"
            ],
            [
             0.2,
             "#de77ae"
            ],
            [
             0.3,
             "#f1b6da"
            ],
            [
             0.4,
             "#fde0ef"
            ],
            [
             0.5,
             "#f7f7f7"
            ],
            [
             0.6,
             "#e6f5d0"
            ],
            [
             0.7,
             "#b8e186"
            ],
            [
             0.8,
             "#7fbc41"
            ],
            [
             0.9,
             "#4d9221"
            ],
            [
             1,
             "#276419"
            ]
           ],
           "sequential": [
            [
             0,
             "#0d0887"
            ],
            [
             0.1111111111111111,
             "#46039f"
            ],
            [
             0.2222222222222222,
             "#7201a8"
            ],
            [
             0.3333333333333333,
             "#9c179e"
            ],
            [
             0.4444444444444444,
             "#bd3786"
            ],
            [
             0.5555555555555556,
             "#d8576b"
            ],
            [
             0.6666666666666666,
             "#ed7953"
            ],
            [
             0.7777777777777778,
             "#fb9f3a"
            ],
            [
             0.8888888888888888,
             "#fdca26"
            ],
            [
             1,
             "#f0f921"
            ]
           ],
           "sequentialminus": [
            [
             0,
             "#0d0887"
            ],
            [
             0.1111111111111111,
             "#46039f"
            ],
            [
             0.2222222222222222,
             "#7201a8"
            ],
            [
             0.3333333333333333,
             "#9c179e"
            ],
            [
             0.4444444444444444,
             "#bd3786"
            ],
            [
             0.5555555555555556,
             "#d8576b"
            ],
            [
             0.6666666666666666,
             "#ed7953"
            ],
            [
             0.7777777777777778,
             "#fb9f3a"
            ],
            [
             0.8888888888888888,
             "#fdca26"
            ],
            [
             1,
             "#f0f921"
            ]
           ]
          },
          "colorway": [
           "#636efa",
           "#EF553B",
           "#00cc96",
           "#ab63fa",
           "#FFA15A",
           "#19d3f3",
           "#FF6692",
           "#B6E880",
           "#FF97FF",
           "#FECB52"
          ],
          "font": {
           "color": "#2a3f5f"
          },
          "geo": {
           "bgcolor": "white",
           "lakecolor": "white",
           "landcolor": "#E5ECF6",
           "showlakes": true,
           "showland": true,
           "subunitcolor": "white"
          },
          "hoverlabel": {
           "align": "left"
          },
          "hovermode": "closest",
          "mapbox": {
           "style": "light"
          },
          "paper_bgcolor": "white",
          "plot_bgcolor": "#E5ECF6",
          "polar": {
           "angularaxis": {
            "gridcolor": "white",
            "linecolor": "white",
            "ticks": ""
           },
           "bgcolor": "#E5ECF6",
           "radialaxis": {
            "gridcolor": "white",
            "linecolor": "white",
            "ticks": ""
           }
          },
          "scene": {
           "xaxis": {
            "backgroundcolor": "#E5ECF6",
            "gridcolor": "white",
            "gridwidth": 2,
            "linecolor": "white",
            "showbackground": true,
            "ticks": "",
            "zerolinecolor": "white"
           },
           "yaxis": {
            "backgroundcolor": "#E5ECF6",
            "gridcolor": "white",
            "gridwidth": 2,
            "linecolor": "white",
            "showbackground": true,
            "ticks": "",
            "zerolinecolor": "white"
           },
           "zaxis": {
            "backgroundcolor": "#E5ECF6",
            "gridcolor": "white",
            "gridwidth": 2,
            "linecolor": "white",
            "showbackground": true,
            "ticks": "",
            "zerolinecolor": "white"
           }
          },
          "shapedefaults": {
           "line": {
            "color": "#2a3f5f"
           }
          },
          "ternary": {
           "aaxis": {
            "gridcolor": "white",
            "linecolor": "white",
            "ticks": ""
           },
           "baxis": {
            "gridcolor": "white",
            "linecolor": "white",
            "ticks": ""
           },
           "bgcolor": "#E5ECF6",
           "caxis": {
            "gridcolor": "white",
            "linecolor": "white",
            "ticks": ""
           }
          },
          "title": {
           "x": 0.05
          },
          "xaxis": {
           "automargin": true,
           "gridcolor": "white",
           "linecolor": "white",
           "ticks": "",
           "title": {
            "standoff": 15
           },
           "zerolinecolor": "white",
           "zerolinewidth": 2
          },
          "yaxis": {
           "automargin": true,
           "gridcolor": "white",
           "linecolor": "white",
           "ticks": "",
           "title": {
            "standoff": 15
           },
           "zerolinecolor": "white",
           "zerolinewidth": 2
          }
         }
        },
        "title": {
         "text": "Number of Airbnb Locations per Neighborhood in Amsterdam"
        },
        "xaxis": {
         "anchor": "y",
         "domain": [
          0,
          1
         ],
         "tickangle": 90,
         "title": {
          "text": "Neighbourhood"
         }
        },
        "yaxis": {
         "anchor": "x",
         "domain": [
          0,
          1
         ],
         "title": {
          "text": "Number of Airbnb Locations"
         }
        }
       }
      }
     },
     "metadata": {},
     "output_type": "display_data"
    }
   ],
   "source": [
    "import pandas as pd\n",
    "import os.path\n",
    "import plotly.express as px\n",
    "\n",
    "import matplotlib.pyplot as plt\n",
    "\n",
    "\n",
    "# Load the Airbnb dataset (assuming you have it already)\n",
    "airbnb_data_path = os.path.join(os.path.expanduser('~'), 'Downloads', 'listings.csv')\n",
    "bnb_df = pd.read_csv(airbnb_data_path)\n",
    "\n",
    "print('Columns in file:\\n', bnb_df.columns)\n",
    "bnb_df.head()\n",
    "\n",
    "neighborhood_counts = bnb_df['neighbourhood'].value_counts().reset_index()\n",
    "neighborhood_counts.columns = ['Neighbourhood', 'Number of Airbnb Locations']\n",
    "\n",
    "fig = px.bar(neighborhood_counts, x='Neighbourhood', y='Number of Airbnb Locations',\n",
    "             title=\"Number of Airbnb Locations per Neighborhood in Amsterdam\")\n",
    "fig.update_xaxes(tickangle=90)\n",
    "fig.show()\n"
   ]
  },
  {
   "cell_type": "code",
   "execution_count": 42,
   "metadata": {},
   "outputs": [
    {
     "name": "stdout",
     "output_type": "stream",
     "text": [
      "The number of different licenses issued is: 7288\n"
     ]
    }
   ],
   "source": [
    "unique_licenses = bnb_df['license'].nunique()\n",
    "\n",
    "print(f\"The number of different licenses issued is: {unique_licenses}\")"
   ]
  },
  {
   "cell_type": "code",
   "execution_count": 43,
   "metadata": {},
   "outputs": [
    {
     "name": "stdout",
     "output_type": "stream",
     "text": [
      "                      id                                               name  \\\n",
      "0                 761411  Condo in Amsterdam · ★4.74 · 1 bedroom · 1 bed...   \n",
      "1                 768274  Rental unit in Amsterdam · ★4.83 · 1 bedroom ·...   \n",
      "2                 768737  Boat in Amsterdam · ★4.82 · 1 bedroom · 1 bed ...   \n",
      "3                 771217  Houseboat in Amsterdam · ★5.0 · 3 bedrooms · 3...   \n",
      "4                 771343  Rental unit in Amsterdam · ★4.89 · 1 bedroom ·...   \n",
      "...                  ...                                                ...   \n",
      "8381  971403658453358540  Rental unit in Amsterdam · ★New · 1 bedroom · ...   \n",
      "8382  971600466535392582  Home in Amsterdam · ★New · 3 bedrooms · 3 beds...   \n",
      "8383  971686543447319533  Rental unit in Amsterdam · ★New · 1 bedroom · ...   \n",
      "8384  971758168481363169  Hotel in Amsterdam · ★New · 1 bedroom · 1 bed ...   \n",
      "8385  972218247170836285  Condo in Amsterdam · ★New · 2 bedrooms · 1 bed...   \n",
      "\n",
      "        host_id host_name  neighbourhood_group            neighbourhood  \\\n",
      "0       4013546    Xsjong                  NaN               Noord-Oost   \n",
      "1       3678216     J & R                  NaN               Westerpark   \n",
      "2       3877342    Nicole                  NaN               Westerpark   \n",
      "3       4068486  Danielle                  NaN                     Zuid   \n",
      "4       2313061    Marcel                  NaN             Centrum-West   \n",
      "...         ...       ...                  ...                      ...   \n",
      "8381    6879236   Michiel                  NaN                Oud-Noord   \n",
      "8382  307559908     Chris                  NaN                Oud-Noord   \n",
      "8383  170194324      Yara                  NaN            Bos en Lommer   \n",
      "8384   55794534     David                  NaN             Centrum-West   \n",
      "8385    2876582     Doris                  NaN  De Pijp - Rivierenbuurt   \n",
      "\n",
      "       latitude  longitude        room_type  price  ...  reviews_per_month  \\\n",
      "0     52.401640   4.951060     Private room     61  ...               2.30   \n",
      "1     52.388550   4.885210  Entire home/apt    327  ...               0.64   \n",
      "2     52.378240   4.868260     Private room    109  ...               2.73   \n",
      "3     52.340910   4.848020  Entire home/apt    290  ...               0.11   \n",
      "4     52.376410   4.883030     Private room    150  ...               6.62   \n",
      "...         ...        ...              ...    ...  ...                ...   \n",
      "8381  52.394972   4.906180  Entire home/apt    250  ...                NaN   \n",
      "8382  52.387880   4.911080  Entire home/apt    337  ...                NaN   \n",
      "8383  52.386497   4.848041  Entire home/apt    135  ...                NaN   \n",
      "8384  52.372431   4.894491     Private room    160  ...                NaN   \n",
      "8385  52.342122   4.909411  Entire home/apt    211  ...                NaN   \n",
      "\n",
      "      calculated_host_listings_count availability_365  number_of_reviews_ltm  \\\n",
      "0                                  2              272                     26   \n",
      "1                                  1               16                      6   \n",
      "2                                  3               29                     43   \n",
      "3                                  1                0                      0   \n",
      "4                                  2              196                    110   \n",
      "...                              ...              ...                    ...   \n",
      "8381                               1                9                      0   \n",
      "8382                               1              267                      0   \n",
      "8383                               1               13                      0   \n",
      "8384                               1                6                      0   \n",
      "8385                               1               55                      0   \n",
      "\n",
      "                       license                   Property   Rating  \\\n",
      "0     0363 D4AD DCF3 E72A 56A2        Condo in Amsterdam    ★4.74    \n",
      "1     0363 7A50 18E7 51D1 B7F9  Rental unit in Amsterdam    ★4.83    \n",
      "2         036396BE30827DDB9575         Boat in Amsterdam    ★4.82    \n",
      "3     0363 D807 AD6C 499A F871    Houseboat in Amsterdam     ★5.0    \n",
      "4     0363 8C61 E9B9 5582 913E  Rental unit in Amsterdam    ★4.89    \n",
      "...                        ...                        ...      ...   \n",
      "8381  0363 9080 FE38 A7CE E7B7  Rental unit in Amsterdam     ★New    \n",
      "8382  0363 5639 0AD2 7A88 3FED         Home in Amsterdam     ★New    \n",
      "8383  0363 C287 34D9 EA25 9428  Rental unit in Amsterdam     ★New    \n",
      "8384                    Exempt        Hotel in Amsterdam     ★New    \n",
      "8385  0363 2F20 4F53 FB57 2D7F        Condo in Amsterdam     ★New    \n",
      "\n",
      "          Bedrooms      Beds            Baths  \n",
      "0       1 bedroom     1 bed     1 shared bath  \n",
      "1       1 bedroom     1 bed           2 baths  \n",
      "2       1 bedroom     1 bed         1.5 baths  \n",
      "3      3 bedrooms    3 beds         2.5 baths  \n",
      "4       1 bedroom     1 bed    1 private bath  \n",
      "...            ...       ...              ...  \n",
      "8381    1 bedroom     1 bed            1 bath  \n",
      "8382   3 bedrooms    3 beds            1 bath  \n",
      "8383    1 bedroom     1 bed         1.5 baths  \n",
      "8384    1 bedroom     1 bed     1 shared bath  \n",
      "8385   2 bedrooms     1 bed            1 bath  \n",
      "\n",
      "[8386 rows x 23 columns]\n"
     ]
    }
   ],
   "source": [
    "split_name = bnb_df['name'].str.split('·', expand=True)\n",
    "\n",
    "split_name.columns = ['Property', 'Rating', 'Bedrooms', 'Beds', 'Baths']\n",
    "\n",
    "bnb_df = pd.concat([bnb_df, split_name], axis=1)\n",
    "\n",
    "print(bnb_df)\n",
    "\n"
   ]
  },
  {
   "cell_type": "code",
   "execution_count": 36,
   "metadata": {},
   "outputs": [
    {
     "name": "stdout",
     "output_type": "stream",
     "text": [
      "0         1 bed \n",
      "1         1 bed \n",
      "2         1 bed \n",
      "3        3 beds \n",
      "4         1 bed \n",
      "          ...   \n",
      "8381      1 bed \n",
      "8382     3 beds \n",
      "8383      1 bed \n",
      "8384      1 bed \n",
      "8385      1 bed \n",
      "Name: Beds, Length: 8386, dtype: object\n"
     ]
    }
   ],
   "source": [
    "print(bnb_df['Beds'])"
   ]
  },
  {
   "cell_type": "code",
   "execution_count": 44,
   "metadata": {},
   "outputs": [
    {
     "name": "stdout",
     "output_type": "stream",
     "text": [
      "0       1.0\n",
      "1       1.0\n",
      "2       1.0\n",
      "3       3.0\n",
      "4       1.0\n",
      "       ... \n",
      "8381    1.0\n",
      "8382    3.0\n",
      "8383    1.0\n",
      "8384    1.0\n",
      "8385    1.0\n",
      "Name: Beds, Length: 8386, dtype: float64\n"
     ]
    }
   ],
   "source": [
    "bnb_df['Beds'] = bnb_df['Beds'].str.extract('([\\d.]+)').astype(float)\n",
    "\n",
    "# Show the resulting DataFrame\n",
    "print(bnb_df['Beds'])"
   ]
  },
  {
   "cell_type": "code",
   "execution_count": 45,
   "metadata": {},
   "outputs": [
    {
     "name": "stdout",
     "output_type": "stream",
     "text": [
      "0       1.0\n",
      "1       1.0\n",
      "2       1.0\n",
      "3       3.0\n",
      "4       1.0\n",
      "       ... \n",
      "8381    1.0\n",
      "8382    3.0\n",
      "8383    1.0\n",
      "8384    1.0\n",
      "8385    1.0\n",
      "Name: Beds, Length: 8386, dtype: float64\n"
     ]
    }
   ],
   "source": [
    "print(bnb_df['Beds'])"
   ]
  },
  {
   "cell_type": "code",
   "execution_count": 46,
   "metadata": {},
   "outputs": [
    {
     "name": "stdout",
     "output_type": "stream",
     "text": [
      "Totaal aantal bedden: 14713.5\n"
     ]
    }
   ],
   "source": [
    "total_beds = bnb_df['Beds'].sum()\n",
    "\n",
    "# Toon het totaal aantal bedden\n",
    "print(\"Totaal aantal bedden:\", total_beds)"
   ]
  },
  {
   "cell_type": "code",
   "execution_count": 47,
   "metadata": {},
   "outputs": [
    {
     "name": "stdout",
     "output_type": "stream",
     "text": [
      "Aantal rijen waarbij availability_365 niet gelijk is aan 365: 8350\n"
     ]
    }
   ],
   "source": [
    "'availability_365'\n",
    "count_not_equal_365 = len(bnb_df.loc[bnb_df['availability_365'] != 365])\n",
    "\n",
    "# Toon het aantal\n",
    "print(\"Aantal rijen waarbij availability_365 niet gelijk is aan 365:\", count_not_equal_365)"
   ]
  },
  {
   "cell_type": "code",
   "execution_count": 48,
   "metadata": {},
   "outputs": [
    {
     "data": {
      "text/html": [
       "<div>\n",
       "<style scoped>\n",
       "    .dataframe tbody tr th:only-of-type {\n",
       "        vertical-align: middle;\n",
       "    }\n",
       "\n",
       "    .dataframe tbody tr th {\n",
       "        vertical-align: top;\n",
       "    }\n",
       "\n",
       "    .dataframe thead th {\n",
       "        text-align: right;\n",
       "    }\n",
       "</style>\n",
       "<table border=\"1\" class=\"dataframe\">\n",
       "  <thead>\n",
       "    <tr style=\"text-align: right;\">\n",
       "      <th></th>\n",
       "      <th>id</th>\n",
       "      <th>host_id</th>\n",
       "      <th>neighbourhood_group</th>\n",
       "      <th>latitude</th>\n",
       "      <th>longitude</th>\n",
       "      <th>price</th>\n",
       "      <th>minimum_nights</th>\n",
       "      <th>number_of_reviews</th>\n",
       "      <th>reviews_per_month</th>\n",
       "      <th>calculated_host_listings_count</th>\n",
       "      <th>availability_365</th>\n",
       "      <th>number_of_reviews_ltm</th>\n",
       "      <th>Beds</th>\n",
       "    </tr>\n",
       "  </thead>\n",
       "  <tbody>\n",
       "    <tr>\n",
       "      <th>count</th>\n",
       "      <td>8.386000e+03</td>\n",
       "      <td>8.386000e+03</td>\n",
       "      <td>0.0</td>\n",
       "      <td>8386.000000</td>\n",
       "      <td>8386.000000</td>\n",
       "      <td>8386.000000</td>\n",
       "      <td>8386.000000</td>\n",
       "      <td>8386.000000</td>\n",
       "      <td>7556.000000</td>\n",
       "      <td>8386.000000</td>\n",
       "      <td>8386.000000</td>\n",
       "      <td>8386.000000</td>\n",
       "      <td>8368.000000</td>\n",
       "    </tr>\n",
       "    <tr>\n",
       "      <th>mean</th>\n",
       "      <td>2.973884e+17</td>\n",
       "      <td>1.077878e+08</td>\n",
       "      <td>NaN</td>\n",
       "      <td>52.366603</td>\n",
       "      <td>4.889834</td>\n",
       "      <td>254.489864</td>\n",
       "      <td>5.046625</td>\n",
       "      <td>45.437753</td>\n",
       "      <td>1.175696</td>\n",
       "      <td>1.831624</td>\n",
       "      <td>82.825066</td>\n",
       "      <td>10.848080</td>\n",
       "      <td>1.758305</td>\n",
       "    </tr>\n",
       "    <tr>\n",
       "      <th>std</th>\n",
       "      <td>3.905819e+17</td>\n",
       "      <td>1.448316e+08</td>\n",
       "      <td>NaN</td>\n",
       "      <td>0.017191</td>\n",
       "      <td>0.035403</td>\n",
       "      <td>395.468275</td>\n",
       "      <td>34.710395</td>\n",
       "      <td>107.352805</td>\n",
       "      <td>2.253706</td>\n",
       "      <td>2.857336</td>\n",
       "      <td>113.568083</td>\n",
       "      <td>30.815465</td>\n",
       "      <td>1.318676</td>\n",
       "    </tr>\n",
       "    <tr>\n",
       "      <th>min</th>\n",
       "      <td>2.818000e+03</td>\n",
       "      <td>3.159000e+03</td>\n",
       "      <td>NaN</td>\n",
       "      <td>52.290340</td>\n",
       "      <td>4.755870</td>\n",
       "      <td>18.000000</td>\n",
       "      <td>1.000000</td>\n",
       "      <td>0.000000</td>\n",
       "      <td>0.010000</td>\n",
       "      <td>1.000000</td>\n",
       "      <td>0.000000</td>\n",
       "      <td>0.000000</td>\n",
       "      <td>0.000000</td>\n",
       "    </tr>\n",
       "    <tr>\n",
       "      <th>25%</th>\n",
       "      <td>1.851464e+07</td>\n",
       "      <td>1.025536e+07</td>\n",
       "      <td>NaN</td>\n",
       "      <td>52.355640</td>\n",
       "      <td>4.865501</td>\n",
       "      <td>150.000000</td>\n",
       "      <td>2.000000</td>\n",
       "      <td>3.000000</td>\n",
       "      <td>0.270000</td>\n",
       "      <td>1.000000</td>\n",
       "      <td>0.000000</td>\n",
       "      <td>0.000000</td>\n",
       "      <td>1.000000</td>\n",
       "    </tr>\n",
       "    <tr>\n",
       "      <th>50%</th>\n",
       "      <td>4.242761e+07</td>\n",
       "      <td>3.642318e+07</td>\n",
       "      <td>NaN</td>\n",
       "      <td>52.365769</td>\n",
       "      <td>4.887580</td>\n",
       "      <td>207.000000</td>\n",
       "      <td>3.000000</td>\n",
       "      <td>10.000000</td>\n",
       "      <td>0.580000</td>\n",
       "      <td>1.000000</td>\n",
       "      <td>18.000000</td>\n",
       "      <td>3.000000</td>\n",
       "      <td>1.000000</td>\n",
       "    </tr>\n",
       "    <tr>\n",
       "      <th>75%</th>\n",
       "      <td>7.227894e+17</td>\n",
       "      <td>1.444334e+08</td>\n",
       "      <td>NaN</td>\n",
       "      <td>52.376440</td>\n",
       "      <td>4.908708</td>\n",
       "      <td>300.000000</td>\n",
       "      <td>4.000000</td>\n",
       "      <td>36.000000</td>\n",
       "      <td>1.240000</td>\n",
       "      <td>1.000000</td>\n",
       "      <td>142.000000</td>\n",
       "      <td>8.000000</td>\n",
       "      <td>2.000000</td>\n",
       "    </tr>\n",
       "    <tr>\n",
       "      <th>max</th>\n",
       "      <td>9.722182e+17</td>\n",
       "      <td>5.349544e+08</td>\n",
       "      <td>NaN</td>\n",
       "      <td>52.425159</td>\n",
       "      <td>5.026430</td>\n",
       "      <td>27857.000000</td>\n",
       "      <td>1001.000000</td>\n",
       "      <td>3199.000000</td>\n",
       "      <td>120.110000</td>\n",
       "      <td>27.000000</td>\n",
       "      <td>365.000000</td>\n",
       "      <td>1689.000000</td>\n",
       "      <td>33.000000</td>\n",
       "    </tr>\n",
       "  </tbody>\n",
       "</table>\n",
       "</div>"
      ],
      "text/plain": [
       "                 id       host_id  neighbourhood_group     latitude  \\\n",
       "count  8.386000e+03  8.386000e+03                  0.0  8386.000000   \n",
       "mean   2.973884e+17  1.077878e+08                  NaN    52.366603   \n",
       "std    3.905819e+17  1.448316e+08                  NaN     0.017191   \n",
       "min    2.818000e+03  3.159000e+03                  NaN    52.290340   \n",
       "25%    1.851464e+07  1.025536e+07                  NaN    52.355640   \n",
       "50%    4.242761e+07  3.642318e+07                  NaN    52.365769   \n",
       "75%    7.227894e+17  1.444334e+08                  NaN    52.376440   \n",
       "max    9.722182e+17  5.349544e+08                  NaN    52.425159   \n",
       "\n",
       "         longitude         price  minimum_nights  number_of_reviews  \\\n",
       "count  8386.000000   8386.000000     8386.000000        8386.000000   \n",
       "mean      4.889834    254.489864        5.046625          45.437753   \n",
       "std       0.035403    395.468275       34.710395         107.352805   \n",
       "min       4.755870     18.000000        1.000000           0.000000   \n",
       "25%       4.865501    150.000000        2.000000           3.000000   \n",
       "50%       4.887580    207.000000        3.000000          10.000000   \n",
       "75%       4.908708    300.000000        4.000000          36.000000   \n",
       "max       5.026430  27857.000000     1001.000000        3199.000000   \n",
       "\n",
       "       reviews_per_month  calculated_host_listings_count  availability_365  \\\n",
       "count        7556.000000                     8386.000000       8386.000000   \n",
       "mean            1.175696                        1.831624         82.825066   \n",
       "std             2.253706                        2.857336        113.568083   \n",
       "min             0.010000                        1.000000          0.000000   \n",
       "25%             0.270000                        1.000000          0.000000   \n",
       "50%             0.580000                        1.000000         18.000000   \n",
       "75%             1.240000                        1.000000        142.000000   \n",
       "max           120.110000                       27.000000        365.000000   \n",
       "\n",
       "       number_of_reviews_ltm         Beds  \n",
       "count            8386.000000  8368.000000  \n",
       "mean               10.848080     1.758305  \n",
       "std                30.815465     1.318676  \n",
       "min                 0.000000     0.000000  \n",
       "25%                 0.000000     1.000000  \n",
       "50%                 3.000000     1.000000  \n",
       "75%                 8.000000     2.000000  \n",
       "max              1689.000000    33.000000  "
      ]
     },
     "execution_count": 48,
     "metadata": {},
     "output_type": "execute_result"
    }
   ],
   "source": [
    "bnb_df.describe()"
   ]
  },
  {
   "cell_type": "code",
   "execution_count": 49,
   "metadata": {},
   "outputs": [
    {
     "name": "stdout",
     "output_type": "stream",
     "text": [
      "Totale prijs per nacht geheel amsterdam is: 2134152\n"
     ]
    }
   ],
   "source": [
    "total_price_per_night = bnb_df['price'].sum()\n",
    "\n",
    "# Toon het totaal aantal bedden\n",
    "print(\"Totale prijs per nacht geheel amsterdam is:\", total_price_per_night)"
   ]
  }
 ],
 "metadata": {
  "kernelspec": {
   "display_name": "Python 3",
   "language": "python",
   "name": "python3"
  },
  "language_info": {
   "codemirror_mode": {
    "name": "ipython",
    "version": 3
   },
   "file_extension": ".py",
   "mimetype": "text/x-python",
   "name": "python",
   "nbconvert_exporter": "python",
   "pygments_lexer": "ipython3",
   "version": "3.11.5"
  },
  "orig_nbformat": 4
 },
 "nbformat": 4,
 "nbformat_minor": 2
}
