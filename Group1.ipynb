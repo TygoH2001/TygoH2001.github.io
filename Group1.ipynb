{
 "cells": [
  {
   "cell_type": "markdown",
   "metadata": {},
   "source": [
    "Assignment 1"
   ]
  },
  {
   "cell_type": "code",
   "execution_count": 1,
   "metadata": {},
   "outputs": [
    {
     "name": "stdout",
     "output_type": "stream",
     "text": [
      "Minimum value in totaal fosfor : 0.02\n",
      "Maximum value in totaal fosfor : 2.03\n"
     ]
    }
   ],
   "source": [
    "import pandas as pd\n",
    "#Change the path to the downloaded file\n",
    "xlsx = 'C:/Users/tygoh/Downloads/2020_jaarboek_941_4eccf4d8b6.xlsx'\n",
    "df = pd.read_excel(xlsx)\n",
    "\n",
    "#from txt to NaN, so it is all numeric\n",
    "df['totaal fosfor'] = pd.to_numeric(df['totaal fosfor'], errors='coerce')\n",
    "\n",
    "column1 = 'totaal fosfor'\n",
    "\n",
    "min_value = df[column1].min()\n",
    "max_value = df[column1].max()\n",
    "\n",
    "print(f\"Minimum value in {column1} : {min_value}\")\n",
    "print(f\"Maximum value in {column1} : {max_value}\")"
   ]
  },
  {
   "cell_type": "markdown",
   "metadata": {},
   "source": [
    "Assignment 2"
   ]
  },
  {
   "cell_type": "code",
   "execution_count": 2,
   "metadata": {},
   "outputs": [
    {
     "name": "stdout",
     "output_type": "stream",
     "text": [
      "2425.5\n"
     ]
    }
   ],
   "source": [
    "# How much is 33% of the 7350 registered vessels?\n",
    "      \n",
    "number_boats = 7350\n",
    "percentage_electric = 33\n",
    "electric_boats = (percentage_electric / 100) * number_boats\n",
    "      \n",
    "print(electric_boats)"
   ]
  },
  {
   "cell_type": "code",
   "execution_count": 3,
   "metadata": {},
   "outputs": [
    {
     "name": "stdout",
     "output_type": "stream",
     "text": [
      "7.482993197278911\n"
     ]
    }
   ],
   "source": [
    "#550 boats out of 7350 are commercial vessels - percentage?\n",
    "\n",
    "number_commercial = 550\n",
    "\n",
    "percentage_commercial = (100/number_boats) * number_commercial\n",
    "\n",
    "print(percentage_commercial)"
   ]
  },
  {
   "cell_type": "code",
   "execution_count": 4,
   "metadata": {},
   "outputs": [
    {
     "name": "stdout",
     "output_type": "stream",
     "text": [
      "14.0\n"
     ]
    }
   ],
   "source": [
    "#amout of necessary lifeboats and supportboats\n",
    "average_amount = 1/500\n",
    "lenght = 5000\n",
    "start_boat = 1\n",
    "communication = 2\n",
    "buffer = 1\n",
    "\n",
    "amount_boats = lenght * average_amount + start_boat + communication + buffer\n",
    "print(amount_boats)"
   ]
  },
  {
   "cell_type": "code",
   "execution_count": 5,
   "metadata": {},
   "outputs": [
    {
     "name": "stdout",
     "output_type": "stream",
     "text": [
      "3038.0\n",
      "364.56\n"
     ]
    }
   ],
   "source": [
    "#Energy for electric boat motors (amount_boats is extracted from last code snippet)\n",
    "             \n",
    "kWh = 15.5\n",
    "hours_per_day = 2\n",
    "days = 7\n",
    "            \n",
    "energy_use = kWh * hours_per_day * days * amount_boats\n",
    "enery_price = energy_use * 0.12\n",
    "      \n",
    "print(energy_use)\n",
    "print(enery_price)"
   ]
  },
  {
   "cell_type": "markdown",
   "metadata": {},
   "source": [
    "Assignment 3"
   ]
  },
  {
   "cell_type": "code",
   "execution_count": 6,
   "metadata": {},
   "outputs": [
    {
     "name": "stdout",
     "output_type": "stream",
     "text": [
      "The mean price of Airbnbs in Amsterdam is: 254.48986405914619\n",
      "213771.4858096828\n",
      "525000\n",
      "1157625.0000000002\n",
      "1896396.485809683 euro\n"
     ]
    }
   ],
   "source": [
    "# Assignment 3.1\n",
    "# What will Amsterdam receive from tourist tax?\n",
    "# The event lasts a week with 30.000 visitors\n",
    "\n",
    "import pandas as pd\n",
    "\n",
    "# Airbnb tax\n",
    "Airbnb_visitors = 30000 * 0.12 # 12% stays at Airbnb\n",
    "Airbnb_appartments = Airbnb_visitors / 3 # based on average occupation of 3\n",
    "\n",
    "bnb_data = pd.read_csv('listings.csv') \n",
    "bnb_price = bnb_data['price'].mean()\n",
    "print(\"The mean price of Airbnbs in Amsterdam is:\", bnb_price)\n",
    "\n",
    "Airbnb_tax = (bnb_price * Airbnb_appartments) * 0.1\n",
    "Airbnb_tax_week = Airbnb_tax * 7\n",
    "print(Airbnb_tax_week)\n",
    "\n",
    "# Hotel direct tax\n",
    "direct_tax = 25000 * 3\n",
    "direct_tax_week = direct_tax * 7\n",
    "print(direct_tax_week)\n",
    "\n",
    "# Hotel indirect tax\n",
    "average_price = 189 # average hotel price september 2023\n",
    "hotel_rooms = 12500 # based on average occupation of 2\n",
    "indirect_tax = (average_price * hotel_rooms) * 0.07\n",
    "indirect_tax_week = indirect_tax * 7\n",
    "print(indirect_tax_week)\n",
    "\n",
    "# Total tourist tax\n",
    "total_tax = Airbnb_tax_week + direct_tax_week + indirect_tax_week\n",
    "print(total_tax, \"euro\")\n",
    "      "
   ]
  },
  {
   "cell_type": "code",
   "execution_count": 7,
   "metadata": {},
   "outputs": [
    {
     "name": "stdout",
     "output_type": "stream",
     "text": [
      "                             neighbourhood  count\n",
      "0                   De Baarsjes - Oud-West   1382\n",
      "1                             Centrum-West   1006\n",
      "2                  De Pijp - Rivierenbuurt    935\n",
      "3                             Centrum-Oost    793\n",
      "4                                     Zuid    599\n",
      "5                               Westerpark    584\n",
      "6                                 Oud-Oost    506\n",
      "7                            Bos en Lommer    424\n",
      "8                                Oud-Noord    402\n",
      "9   Oostelijk Havengebied - Indische Buurt    320\n",
      "10                         Watergraafsmeer    262\n",
      "11                              Noord-West    218\n",
      "12                IJburg - Zeeburgereiland    183\n",
      "13                             Slotervaart    164\n",
      "14                              Noord-Oost    137\n",
      "15                 Geuzenveld - Slotermeer    116\n",
      "16                  Buitenveldert - Zuidas    100\n",
      "17                  De Aker - Nieuw Sloten     74\n",
      "18                   Gaasperdam - Driemond     51\n",
      "19                         Bijlmer-Centrum     47\n",
      "20                                  Osdorp     44\n",
      "21                            Bijlmer-Oost     39\n"
     ]
    },
    {
     "data": {
      "application/vnd.plotly.v1+json": {
       "config": {
        "plotlyServerURL": "https://plot.ly"
       },
       "data": [
        {
         "alignmentgroup": "True",
         "hovertemplate": "neighbourhood=%{x}<br>count=%{y}<extra></extra>",
         "legendgroup": "",
         "marker": {
          "color": "#636efa",
          "pattern": {
           "shape": ""
          }
         },
         "name": "",
         "offsetgroup": "",
         "orientation": "v",
         "showlegend": false,
         "textposition": "auto",
         "type": "bar",
         "x": [
          "De Baarsjes - Oud-West",
          "Centrum-West",
          "De Pijp - Rivierenbuurt",
          "Centrum-Oost",
          "Zuid",
          "Westerpark",
          "Oud-Oost",
          "Bos en Lommer",
          "Oud-Noord",
          "Oostelijk Havengebied - Indische Buurt",
          "Watergraafsmeer",
          "Noord-West",
          "IJburg - Zeeburgereiland",
          "Slotervaart",
          "Noord-Oost",
          "Geuzenveld - Slotermeer",
          "Buitenveldert - Zuidas",
          "De Aker - Nieuw Sloten",
          "Gaasperdam - Driemond",
          "Bijlmer-Centrum",
          "Osdorp",
          "Bijlmer-Oost"
         ],
         "xaxis": "x",
         "y": [
          1382,
          1006,
          935,
          793,
          599,
          584,
          506,
          424,
          402,
          320,
          262,
          218,
          183,
          164,
          137,
          116,
          100,
          74,
          51,
          47,
          44,
          39
         ],
         "yaxis": "y"
        }
       ],
       "layout": {
        "barmode": "relative",
        "legend": {
         "tracegroupgap": 0
        },
        "template": {
         "data": {
          "bar": [
           {
            "error_x": {
             "color": "#2a3f5f"
            },
            "error_y": {
             "color": "#2a3f5f"
            },
            "marker": {
             "line": {
              "color": "#E5ECF6",
              "width": 0.5
             },
             "pattern": {
              "fillmode": "overlay",
              "size": 10,
              "solidity": 0.2
             }
            },
            "type": "bar"
           }
          ],
          "barpolar": [
           {
            "marker": {
             "line": {
              "color": "#E5ECF6",
              "width": 0.5
             },
             "pattern": {
              "fillmode": "overlay",
              "size": 10,
              "solidity": 0.2
             }
            },
            "type": "barpolar"
           }
          ],
          "carpet": [
           {
            "aaxis": {
             "endlinecolor": "#2a3f5f",
             "gridcolor": "white",
             "linecolor": "white",
             "minorgridcolor": "white",
             "startlinecolor": "#2a3f5f"
            },
            "baxis": {
             "endlinecolor": "#2a3f5f",
             "gridcolor": "white",
             "linecolor": "white",
             "minorgridcolor": "white",
             "startlinecolor": "#2a3f5f"
            },
            "type": "carpet"
           }
          ],
          "choropleth": [
           {
            "colorbar": {
             "outlinewidth": 0,
             "ticks": ""
            },
            "type": "choropleth"
           }
          ],
          "contour": [
           {
            "colorbar": {
             "outlinewidth": 0,
             "ticks": ""
            },
            "colorscale": [
             [
              0,
              "#0d0887"
             ],
             [
              0.1111111111111111,
              "#46039f"
             ],
             [
              0.2222222222222222,
              "#7201a8"
             ],
             [
              0.3333333333333333,
              "#9c179e"
             ],
             [
              0.4444444444444444,
              "#bd3786"
             ],
             [
              0.5555555555555556,
              "#d8576b"
             ],
             [
              0.6666666666666666,
              "#ed7953"
             ],
             [
              0.7777777777777778,
              "#fb9f3a"
             ],
             [
              0.8888888888888888,
              "#fdca26"
             ],
             [
              1,
              "#f0f921"
             ]
            ],
            "type": "contour"
           }
          ],
          "contourcarpet": [
           {
            "colorbar": {
             "outlinewidth": 0,
             "ticks": ""
            },
            "type": "contourcarpet"
           }
          ],
          "heatmap": [
           {
            "colorbar": {
             "outlinewidth": 0,
             "ticks": ""
            },
            "colorscale": [
             [
              0,
              "#0d0887"
             ],
             [
              0.1111111111111111,
              "#46039f"
             ],
             [
              0.2222222222222222,
              "#7201a8"
             ],
             [
              0.3333333333333333,
              "#9c179e"
             ],
             [
              0.4444444444444444,
              "#bd3786"
             ],
             [
              0.5555555555555556,
              "#d8576b"
             ],
             [
              0.6666666666666666,
              "#ed7953"
             ],
             [
              0.7777777777777778,
              "#fb9f3a"
             ],
             [
              0.8888888888888888,
              "#fdca26"
             ],
             [
              1,
              "#f0f921"
             ]
            ],
            "type": "heatmap"
           }
          ],
          "heatmapgl": [
           {
            "colorbar": {
             "outlinewidth": 0,
             "ticks": ""
            },
            "colorscale": [
             [
              0,
              "#0d0887"
             ],
             [
              0.1111111111111111,
              "#46039f"
             ],
             [
              0.2222222222222222,
              "#7201a8"
             ],
             [
              0.3333333333333333,
              "#9c179e"
             ],
             [
              0.4444444444444444,
              "#bd3786"
             ],
             [
              0.5555555555555556,
              "#d8576b"
             ],
             [
              0.6666666666666666,
              "#ed7953"
             ],
             [
              0.7777777777777778,
              "#fb9f3a"
             ],
             [
              0.8888888888888888,
              "#fdca26"
             ],
             [
              1,
              "#f0f921"
             ]
            ],
            "type": "heatmapgl"
           }
          ],
          "histogram": [
           {
            "marker": {
             "pattern": {
              "fillmode": "overlay",
              "size": 10,
              "solidity": 0.2
             }
            },
            "type": "histogram"
           }
          ],
          "histogram2d": [
           {
            "colorbar": {
             "outlinewidth": 0,
             "ticks": ""
            },
            "colorscale": [
             [
              0,
              "#0d0887"
             ],
             [
              0.1111111111111111,
              "#46039f"
             ],
             [
              0.2222222222222222,
              "#7201a8"
             ],
             [
              0.3333333333333333,
              "#9c179e"
             ],
             [
              0.4444444444444444,
              "#bd3786"
             ],
             [
              0.5555555555555556,
              "#d8576b"
             ],
             [
              0.6666666666666666,
              "#ed7953"
             ],
             [
              0.7777777777777778,
              "#fb9f3a"
             ],
             [
              0.8888888888888888,
              "#fdca26"
             ],
             [
              1,
              "#f0f921"
             ]
            ],
            "type": "histogram2d"
           }
          ],
          "histogram2dcontour": [
           {
            "colorbar": {
             "outlinewidth": 0,
             "ticks": ""
            },
            "colorscale": [
             [
              0,
              "#0d0887"
             ],
             [
              0.1111111111111111,
              "#46039f"
             ],
             [
              0.2222222222222222,
              "#7201a8"
             ],
             [
              0.3333333333333333,
              "#9c179e"
             ],
             [
              0.4444444444444444,
              "#bd3786"
             ],
             [
              0.5555555555555556,
              "#d8576b"
             ],
             [
              0.6666666666666666,
              "#ed7953"
             ],
             [
              0.7777777777777778,
              "#fb9f3a"
             ],
             [
              0.8888888888888888,
              "#fdca26"
             ],
             [
              1,
              "#f0f921"
             ]
            ],
            "type": "histogram2dcontour"
           }
          ],
          "mesh3d": [
           {
            "colorbar": {
             "outlinewidth": 0,
             "ticks": ""
            },
            "type": "mesh3d"
           }
          ],
          "parcoords": [
           {
            "line": {
             "colorbar": {
              "outlinewidth": 0,
              "ticks": ""
             }
            },
            "type": "parcoords"
           }
          ],
          "pie": [
           {
            "automargin": true,
            "type": "pie"
           }
          ],
          "scatter": [
           {
            "fillpattern": {
             "fillmode": "overlay",
             "size": 10,
             "solidity": 0.2
            },
            "type": "scatter"
           }
          ],
          "scatter3d": [
           {
            "line": {
             "colorbar": {
              "outlinewidth": 0,
              "ticks": ""
             }
            },
            "marker": {
             "colorbar": {
              "outlinewidth": 0,
              "ticks": ""
             }
            },
            "type": "scatter3d"
           }
          ],
          "scattercarpet": [
           {
            "marker": {
             "colorbar": {
              "outlinewidth": 0,
              "ticks": ""
             }
            },
            "type": "scattercarpet"
           }
          ],
          "scattergeo": [
           {
            "marker": {
             "colorbar": {
              "outlinewidth": 0,
              "ticks": ""
             }
            },
            "type": "scattergeo"
           }
          ],
          "scattergl": [
           {
            "marker": {
             "colorbar": {
              "outlinewidth": 0,
              "ticks": ""
             }
            },
            "type": "scattergl"
           }
          ],
          "scattermapbox": [
           {
            "marker": {
             "colorbar": {
              "outlinewidth": 0,
              "ticks": ""
             }
            },
            "type": "scattermapbox"
           }
          ],
          "scatterpolar": [
           {
            "marker": {
             "colorbar": {
              "outlinewidth": 0,
              "ticks": ""
             }
            },
            "type": "scatterpolar"
           }
          ],
          "scatterpolargl": [
           {
            "marker": {
             "colorbar": {
              "outlinewidth": 0,
              "ticks": ""
             }
            },
            "type": "scatterpolargl"
           }
          ],
          "scatterternary": [
           {
            "marker": {
             "colorbar": {
              "outlinewidth": 0,
              "ticks": ""
             }
            },
            "type": "scatterternary"
           }
          ],
          "surface": [
           {
            "colorbar": {
             "outlinewidth": 0,
             "ticks": ""
            },
            "colorscale": [
             [
              0,
              "#0d0887"
             ],
             [
              0.1111111111111111,
              "#46039f"
             ],
             [
              0.2222222222222222,
              "#7201a8"
             ],
             [
              0.3333333333333333,
              "#9c179e"
             ],
             [
              0.4444444444444444,
              "#bd3786"
             ],
             [
              0.5555555555555556,
              "#d8576b"
             ],
             [
              0.6666666666666666,
              "#ed7953"
             ],
             [
              0.7777777777777778,
              "#fb9f3a"
             ],
             [
              0.8888888888888888,
              "#fdca26"
             ],
             [
              1,
              "#f0f921"
             ]
            ],
            "type": "surface"
           }
          ],
          "table": [
           {
            "cells": {
             "fill": {
              "color": "#EBF0F8"
             },
             "line": {
              "color": "white"
             }
            },
            "header": {
             "fill": {
              "color": "#C8D4E3"
             },
             "line": {
              "color": "white"
             }
            },
            "type": "table"
           }
          ]
         },
         "layout": {
          "annotationdefaults": {
           "arrowcolor": "#2a3f5f",
           "arrowhead": 0,
           "arrowwidth": 1
          },
          "autotypenumbers": "strict",
          "coloraxis": {
           "colorbar": {
            "outlinewidth": 0,
            "ticks": ""
           }
          },
          "colorscale": {
           "diverging": [
            [
             0,
             "#8e0152"
            ],
            [
             0.1,
             "#c51b7d"
            ],
            [
             0.2,
             "#de77ae"
            ],
            [
             0.3,
             "#f1b6da"
            ],
            [
             0.4,
             "#fde0ef"
            ],
            [
             0.5,
             "#f7f7f7"
            ],
            [
             0.6,
             "#e6f5d0"
            ],
            [
             0.7,
             "#b8e186"
            ],
            [
             0.8,
             "#7fbc41"
            ],
            [
             0.9,
             "#4d9221"
            ],
            [
             1,
             "#276419"
            ]
           ],
           "sequential": [
            [
             0,
             "#0d0887"
            ],
            [
             0.1111111111111111,
             "#46039f"
            ],
            [
             0.2222222222222222,
             "#7201a8"
            ],
            [
             0.3333333333333333,
             "#9c179e"
            ],
            [
             0.4444444444444444,
             "#bd3786"
            ],
            [
             0.5555555555555556,
             "#d8576b"
            ],
            [
             0.6666666666666666,
             "#ed7953"
            ],
            [
             0.7777777777777778,
             "#fb9f3a"
            ],
            [
             0.8888888888888888,
             "#fdca26"
            ],
            [
             1,
             "#f0f921"
            ]
           ],
           "sequentialminus": [
            [
             0,
             "#0d0887"
            ],
            [
             0.1111111111111111,
             "#46039f"
            ],
            [
             0.2222222222222222,
             "#7201a8"
            ],
            [
             0.3333333333333333,
             "#9c179e"
            ],
            [
             0.4444444444444444,
             "#bd3786"
            ],
            [
             0.5555555555555556,
             "#d8576b"
            ],
            [
             0.6666666666666666,
             "#ed7953"
            ],
            [
             0.7777777777777778,
             "#fb9f3a"
            ],
            [
             0.8888888888888888,
             "#fdca26"
            ],
            [
             1,
             "#f0f921"
            ]
           ]
          },
          "colorway": [
           "#636efa",
           "#EF553B",
           "#00cc96",
           "#ab63fa",
           "#FFA15A",
           "#19d3f3",
           "#FF6692",
           "#B6E880",
           "#FF97FF",
           "#FECB52"
          ],
          "font": {
           "color": "#2a3f5f"
          },
          "geo": {
           "bgcolor": "white",
           "lakecolor": "white",
           "landcolor": "#E5ECF6",
           "showlakes": true,
           "showland": true,
           "subunitcolor": "white"
          },
          "hoverlabel": {
           "align": "left"
          },
          "hovermode": "closest",
          "mapbox": {
           "style": "light"
          },
          "paper_bgcolor": "white",
          "plot_bgcolor": "#E5ECF6",
          "polar": {
           "angularaxis": {
            "gridcolor": "white",
            "linecolor": "white",
            "ticks": ""
           },
           "bgcolor": "#E5ECF6",
           "radialaxis": {
            "gridcolor": "white",
            "linecolor": "white",
            "ticks": ""
           }
          },
          "scene": {
           "xaxis": {
            "backgroundcolor": "#E5ECF6",
            "gridcolor": "white",
            "gridwidth": 2,
            "linecolor": "white",
            "showbackground": true,
            "ticks": "",
            "zerolinecolor": "white"
           },
           "yaxis": {
            "backgroundcolor": "#E5ECF6",
            "gridcolor": "white",
            "gridwidth": 2,
            "linecolor": "white",
            "showbackground": true,
            "ticks": "",
            "zerolinecolor": "white"
           },
           "zaxis": {
            "backgroundcolor": "#E5ECF6",
            "gridcolor": "white",
            "gridwidth": 2,
            "linecolor": "white",
            "showbackground": true,
            "ticks": "",
            "zerolinecolor": "white"
           }
          },
          "shapedefaults": {
           "line": {
            "color": "#2a3f5f"
           }
          },
          "ternary": {
           "aaxis": {
            "gridcolor": "white",
            "linecolor": "white",
            "ticks": ""
           },
           "baxis": {
            "gridcolor": "white",
            "linecolor": "white",
            "ticks": ""
           },
           "bgcolor": "#E5ECF6",
           "caxis": {
            "gridcolor": "white",
            "linecolor": "white",
            "ticks": ""
           }
          },
          "title": {
           "x": 0.05
          },
          "xaxis": {
           "automargin": true,
           "gridcolor": "white",
           "linecolor": "white",
           "ticks": "",
           "title": {
            "standoff": 15
           },
           "zerolinecolor": "white",
           "zerolinewidth": 2
          },
          "yaxis": {
           "automargin": true,
           "gridcolor": "white",
           "linecolor": "white",
           "ticks": "",
           "title": {
            "standoff": 15
           },
           "zerolinecolor": "white",
           "zerolinewidth": 2
          }
         }
        },
        "title": {
         "text": "number of AirBnB locations per neighbourhood in Amsterdam"
        },
        "xaxis": {
         "anchor": "y",
         "domain": [
          0,
          1
         ],
         "title": {
          "text": "neighbourhood"
         }
        },
        "yaxis": {
         "anchor": "x",
         "domain": [
          0,
          1
         ],
         "title": {
          "text": "number of AirBnBs"
         }
        }
       }
      }
     },
     "metadata": {},
     "output_type": "display_data"
    }
   ],
   "source": [
    "# Assignment 3.2\n",
    "\n",
    "import pandas as pd\n",
    "import plotly.express as px\n",
    "\n",
    "# Plot the amount of AirBnB locations per neighborhood\n",
    "bnb_data = pd.read_csv('listings.csv')\n",
    "\n",
    "neighbourhood = bnb_data['neighbourhood'].value_counts().reset_index()\n",
    "neighbourhood.columns = ['neighbourhood', 'count']\n",
    "print(neighbourhood)\n",
    "\n",
    "fig = px.bar(neighbourhood, x='neighbourhood', y='count', title='number of AirBnB locations per neighbourhood in Amsterdam')\n",
    "fig.update_xaxes(title='neighbourhood')\n",
    "fig.update_yaxes(title='number of AirBnBs') \n",
    "fig.show() "
   ]
  },
  {
   "cell_type": "code",
   "execution_count": 9,
   "metadata": {},
   "outputs": [],
   "source": [
    "# Assignment 3.3\n",
    "# Which street in Amsterdam has the most AirBnB apartments?\n",
    "# Takes almost an hour to run\n",
    "from geopy.geocoders import Nominatim\n",
    "import pandas as pd\n",
    "import os.path\n",
    "\n",
    "bnb_data = pd.read_csv('listings.csv')\n",
    "location = bnb_data.groupby(['latitude', 'longitude']).size().reset_index(name='count') \n",
    "\n",
    "geolocator = Nominatim(user_agent=\"airbnb_geocoder\") \n",
    "def get_street_from_location(lat, lon):\n",
    "    try: \n",
    "        location_info = geolocator.reverse((lat,lon), exactly_one=True) \n",
    "        return location_info.address\n",
    "    except: \n",
    "        return \"N/A\"\n",
    "\n",
    "location['street'] = location.apply(lambda row: get_street_from_location(row['latitude'], row['longitude']), axis=1) \n",
    "\n",
    "most_popular_location = location.sort_values(by='count', ascending=False).iloc[0]\n",
    "print(\"The street with the most Airbnb listings in Amsterdam is:\", most_popular_location['street']) \n",
    "print(\"Number of Airbnb listings in this street:\", most_popular_location['count'])"
   ]
  },
  {
   "cell_type": "code",
   "execution_count": 9,
   "metadata": {},
   "outputs": [
    {
     "name": "stdout",
     "output_type": "stream",
     "text": [
      "Number of apartments used as normal housing: 8386\n",
      "Gemiddelde beschikbaarheid per jaar: 82.82506558549964\n"
     ]
    },
    {
     "data": {
      "image/png": "[encoded data removed]",
      "text/plain": [
       "<Figure size 640x480 with 1 Axes>"
      ]
     },
     "metadata": {},
     "output_type": "display_data"
    }
   ],
   "source": [
    "# Assignment 3.4\n",
    "# Which number of apartments are not rented out all the time?\n",
    "\n",
    "import pandas as pd\n",
    "import matplotlib.pyplot as plt\n",
    "\n",
    "threshold = 365\n",
    "availability = bnb_data['availability_365']<365\n",
    "housing = availability.shape[0]\n",
    "print(\"Number of apartments used as normal housing:\", housing)\n",
    "\n",
    "gem_availability = bnb_data['availability_365'].mean()\n",
    "print(\"Gemiddelde beschikbaarheid per jaar:\", gem_availability)\n",
    "\n",
    "bnb_data.hist(column='availability_365') \n",
    "plt.title(\"Availability Airbnbs Amsterdam\") \n",
    "plt.xlabel(\"Availability in Days\") \n",
    "plt.ylabel(\"Number of Apartments\") \n",
    "plt.show()  "
   ]
  },
  {
   "cell_type": "code",
   "execution_count": 10,
   "metadata": {},
   "outputs": [
    {
     "name": "stdout",
     "output_type": "stream",
     "text": [
      "                      id                                               name  \\\n",
      "0                 761411  Condo in Amsterdam · ★4.74 · 1 bedroom · 1 bed...   \n",
      "1                 768274  Rental unit in Amsterdam · ★4.83 · 1 bedroom ·...   \n",
      "2                 768737  Boat in Amsterdam · ★4.82 · 1 bedroom · 1 bed ...   \n",
      "3                 771217  Houseboat in Amsterdam · ★5.0 · 3 bedrooms · 3...   \n",
      "4                 771343  Rental unit in Amsterdam · ★4.89 · 1 bedroom ·...   \n",
      "...                  ...                                                ...   \n",
      "8381  971403658453358540  Rental unit in Amsterdam · ★New · 1 bedroom · ...   \n",
      "8382  971600466535392582  Home in Amsterdam · ★New · 3 bedrooms · 3 beds...   \n",
      "8383  971686543447319533  Rental unit in Amsterdam · ★New · 1 bedroom · ...   \n",
      "8384  971758168481363169  Hotel in Amsterdam · ★New · 1 bedroom · 1 bed ...   \n",
      "8385  972218247170836285  Condo in Amsterdam · ★New · 2 bedrooms · 1 bed...   \n",
      "\n",
      "        host_id host_name  neighbourhood_group            neighbourhood  \\\n",
      "0       4013546    Xsjong                  NaN               Noord-Oost   \n",
      "1       3678216     J & R                  NaN               Westerpark   \n",
      "2       3877342    Nicole                  NaN               Westerpark   \n",
      "3       4068486  Danielle                  NaN                     Zuid   \n",
      "4       2313061    Marcel                  NaN             Centrum-West   \n",
      "...         ...       ...                  ...                      ...   \n",
      "8381    6879236   Michiel                  NaN                Oud-Noord   \n",
      "8382  307559908     Chris                  NaN                Oud-Noord   \n",
      "8383  170194324      Yara                  NaN            Bos en Lommer   \n",
      "8384   55794534     David                  NaN             Centrum-West   \n",
      "8385    2876582     Doris                  NaN  De Pijp - Rivierenbuurt   \n",
      "\n",
      "       latitude  longitude        room_type  price  ...  reviews_per_month  \\\n",
      "0     52.401640   4.951060     Private room     61  ...               2.30   \n",
      "1     52.388550   4.885210  Entire home/apt    327  ...               0.64   \n",
      "2     52.378240   4.868260     Private room    109  ...               2.73   \n",
      "3     52.340910   4.848020  Entire home/apt    290  ...               0.11   \n",
      "4     52.376410   4.883030     Private room    150  ...               6.62   \n",
      "...         ...        ...              ...    ...  ...                ...   \n",
      "8381  52.394972   4.906180  Entire home/apt    250  ...                NaN   \n",
      "8382  52.387880   4.911080  Entire home/apt    337  ...                NaN   \n",
      "8383  52.386497   4.848041  Entire home/apt    135  ...                NaN   \n",
      "8384  52.372431   4.894491     Private room    160  ...                NaN   \n",
      "8385  52.342122   4.909411  Entire home/apt    211  ...                NaN   \n",
      "\n",
      "      calculated_host_listings_count availability_365  number_of_reviews_ltm  \\\n",
      "0                                  2              272                     26   \n",
      "1                                  1               16                      6   \n",
      "2                                  3               29                     43   \n",
      "3                                  1                0                      0   \n",
      "4                                  2              196                    110   \n",
      "...                              ...              ...                    ...   \n",
      "8381                               1                9                      0   \n",
      "8382                               1              267                      0   \n",
      "8383                               1               13                      0   \n",
      "8384                               1                6                      0   \n",
      "8385                               1               55                      0   \n",
      "\n",
      "                       license                   Property   Rating  \\\n",
      "0     0363 D4AD DCF3 E72A 56A2        Condo in Amsterdam    ★4.74    \n",
      "1     0363 7A50 18E7 51D1 B7F9  Rental unit in Amsterdam    ★4.83    \n",
      "2         036396BE30827DDB9575         Boat in Amsterdam    ★4.82    \n",
      "3     0363 D807 AD6C 499A F871    Houseboat in Amsterdam     ★5.0    \n",
      "4     0363 8C61 E9B9 5582 913E  Rental unit in Amsterdam    ★4.89    \n",
      "...                        ...                        ...      ...   \n",
      "8381  0363 9080 FE38 A7CE E7B7  Rental unit in Amsterdam     ★New    \n",
      "8382  0363 5639 0AD2 7A88 3FED         Home in Amsterdam     ★New    \n",
      "8383  0363 C287 34D9 EA25 9428  Rental unit in Amsterdam     ★New    \n",
      "8384                    Exempt        Hotel in Amsterdam     ★New    \n",
      "8385  0363 2F20 4F53 FB57 2D7F        Condo in Amsterdam     ★New    \n",
      "\n",
      "          Bedrooms      Beds            Baths  \n",
      "0       1 bedroom     1 bed     1 shared bath  \n",
      "1       1 bedroom     1 bed           2 baths  \n",
      "2       1 bedroom     1 bed         1.5 baths  \n",
      "3      3 bedrooms    3 beds         2.5 baths  \n",
      "4       1 bedroom     1 bed    1 private bath  \n",
      "...            ...       ...              ...  \n",
      "8381    1 bedroom     1 bed            1 bath  \n",
      "8382   3 bedrooms    3 beds            1 bath  \n",
      "8383    1 bedroom     1 bed         1.5 baths  \n",
      "8384    1 bedroom     1 bed     1 shared bath  \n",
      "8385   2 bedrooms     1 bed            1 bath  \n",
      "\n",
      "[8386 rows x 23 columns]\n",
      "0         1 bed \n",
      "1         1 bed \n",
      "2         1 bed \n",
      "3        3 beds \n",
      "4         1 bed \n",
      "          ...   \n",
      "8381      1 bed \n",
      "8382     3 beds \n",
      "8383      1 bed \n",
      "8384      1 bed \n",
      "8385      1 bed \n",
      "Name: Beds, Length: 8386, dtype: object\n",
      "0       1.0\n",
      "1       1.0\n",
      "2       1.0\n",
      "3       3.0\n",
      "4       1.0\n",
      "       ... \n",
      "8381    1.0\n",
      "8382    3.0\n",
      "8383    1.0\n",
      "8384    1.0\n",
      "8385    1.0\n",
      "Name: Beds, Length: 8386, dtype: float64\n",
      "Totaal aantal bedden: 14713\n"
     ]
    }
   ],
   "source": [
    "# Assignment 3.5\n",
    "# How many hotel rooms should be built to accommodate Airbnb tourists\n",
    "\n",
    "bnb_df = pd.read_csv('listings.csv') \n",
    "split_name = bnb_df['name'].str.split('·', expand=True)\n",
    "split_name.columns = ['Property', 'Rating', 'Bedrooms', 'Beds', 'Baths']\n",
    "bnb_df = pd.concat([bnb_df, split_name], axis=1)\n",
    "print(bnb_df)\n",
    "\n",
    "print(bnb_df['Beds'])\n",
    "bnb_df['Beds'] = bnb_df['Beds'].str.extract('([\\d.]+)').astype(float)\n",
    "print(bnb_df['Beds'])\n",
    "\n",
    "total_beds = int(bnb_df['Beds'].sum())\n",
    "print(\"Totaal aantal bedden:\", total_beds)"
   ]
  },
  {
   "cell_type": "code",
   "execution_count": 11,
   "metadata": {},
   "outputs": [
    {
     "name": "stdout",
     "output_type": "stream",
     "text": [
      "Number of different licenses issued: 7288\n",
      "8386\n",
      "The most issued license holder has 609\n"
     ]
    }
   ],
   "source": [
    "# Assignment 3.6\n",
    "# How many different licenses are issued?\n",
    "\n",
    "licenses = bnb_data['license'].nunique()\n",
    "print(\"Number of different licenses issued:\", licenses)\n",
    "print(len(bnb_data))\n",
    "\n",
    "license_count = bnb_data['license'].value_counts()\n",
    "mostissued = license_count.max()\n",
    "print(\"The most issued license holder has\", mostissued)"
   ]
  },
  {
   "cell_type": "markdown",
   "metadata": {},
   "source": [
    "Assignment 4"
   ]
  },
  {
   "cell_type": "code",
   "execution_count": 12,
   "metadata": {},
   "outputs": [
    {
     "name": "stdout",
     "output_type": "stream",
     "text": [
      "0    POINT (4.89871 52.36383)\n",
      "dtype: geometry\n"
     ]
    },
    {
     "name": "stderr",
     "output_type": "stream",
     "text": [
      "C:\\Users\\tygoh\\AppData\\Local\\Temp\\ipykernel_9436\\2361481299.py:7: UserWarning:\n",
      "\n",
      "Geometry is in a geographic CRS. Results from 'interpolate' are likely incorrect. Use 'GeoSeries.to_crs()' to re-project geometries to a projected CRS before this operation.\n",
      "\n",
      "\n"
     ]
    }
   ],
   "source": [
    "import geopandas as gpd\n",
    "\n",
    "# Read the file made on the internet\n",
    "line_data = gpd.read_file('C:/Users/tygoh/Downloads/map.geojson')\n",
    "\n",
    "# Calculate the middle of the line and coordinates\n",
    "midpoint = line_data.geometry.interpolate(0.5, normalized=True)\n",
    "\n",
    "print(midpoint)"
   ]
  },
  {
   "cell_type": "code",
   "execution_count": 13,
   "metadata": {},
   "outputs": [
    {
     "name": "stdout",
     "output_type": "stream",
     "text": [
      "5600\n"
     ]
    }
   ],
   "source": [
    "amount_of_people = 32 * 175\n",
    "print(amount_of_people)"
   ]
  },
  {
   "cell_type": "code",
   "execution_count": 14,
   "metadata": {},
   "outputs": [
    {
     "name": "stdout",
     "output_type": "stream",
     "text": [
      "3000\n"
     ]
    }
   ],
   "source": [
    "amount_of_people = 20 * 150\n",
    "print(amount_of_people)"
   ]
  },
  {
   "cell_type": "code",
   "execution_count": null,
   "metadata": {},
   "outputs": [],
   "source": []
  }
 ],
 "metadata": {
  "kernelspec": {
   "display_name": "Python 3",
   "language": "python",
   "name": "python3"
  },
  "language_info": {
   "codemirror_mode": {
    "name": "ipython",
    "version": 3
   },
   "file_extension": ".py",
   "mimetype": "text/x-python",
   "name": "python",
   "nbconvert_exporter": "python",
   "pygments_lexer": "ipython3",
   "version": "3.11.5"
  }
 },
 "nbformat": 4,
 "nbformat_minor": 2
}
